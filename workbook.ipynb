{
 "cells": [
  {
   "cell_type": "code",
   "execution_count": 1,
   "metadata": {},
   "outputs": [],
   "source": [
    "# Importing libraries\n",
    "import pandas as pd\n",
    "import matplotlib.pyplot as plt \n",
    "import numpy as np\n",
    "import seaborn as sb"
   ]
  },
  {
   "cell_type": "code",
   "execution_count": 2,
   "metadata": {},
   "outputs": [
    {
     "data": {
      "text/html": [
       "<div>\n",
       "<style scoped>\n",
       "    .dataframe tbody tr th:only-of-type {\n",
       "        vertical-align: middle;\n",
       "    }\n",
       "\n",
       "    .dataframe tbody tr th {\n",
       "        vertical-align: top;\n",
       "    }\n",
       "\n",
       "    .dataframe thead th {\n",
       "        text-align: right;\n",
       "    }\n",
       "</style>\n",
       "<table border=\"1\" class=\"dataframe\">\n",
       "  <thead>\n",
       "    <tr style=\"text-align: right;\">\n",
       "      <th></th>\n",
       "      <th>Received At</th>\n",
       "      <th>V_STO</th>\n",
       "      <th>SoC</th>\n",
       "    </tr>\n",
       "  </thead>\n",
       "  <tbody>\n",
       "    <tr>\n",
       "      <th>0</th>\n",
       "      <td>1678817964751</td>\n",
       "      <td>3.9688</td>\n",
       "      <td>1.000000</td>\n",
       "    </tr>\n",
       "    <tr>\n",
       "      <th>1</th>\n",
       "      <td>1678818324562</td>\n",
       "      <td>3.9758</td>\n",
       "      <td>0.999442</td>\n",
       "    </tr>\n",
       "    <tr>\n",
       "      <th>2</th>\n",
       "      <td>1678818445403</td>\n",
       "      <td>3.9915</td>\n",
       "      <td>0.998885</td>\n",
       "    </tr>\n",
       "    <tr>\n",
       "      <th>3</th>\n",
       "      <td>1678818504478</td>\n",
       "      <td>3.9968</td>\n",
       "      <td>0.998327</td>\n",
       "    </tr>\n",
       "    <tr>\n",
       "      <th>4</th>\n",
       "      <td>1678818564896</td>\n",
       "      <td>4.0044</td>\n",
       "      <td>0.997769</td>\n",
       "    </tr>\n",
       "  </tbody>\n",
       "</table>\n",
       "</div>"
      ],
      "text/plain": [
       "     Received At   V_STO       SoC\n",
       "0  1678817964751  3.9688  1.000000\n",
       "1  1678818324562  3.9758  0.999442\n",
       "2  1678818445403  3.9915  0.998885\n",
       "3  1678818504478  3.9968  0.998327\n",
       "4  1678818564896  4.0044  0.997769"
      ]
     },
     "execution_count": 2,
     "metadata": {},
     "output_type": "execute_result"
    }
   ],
   "source": [
    "excel = pd.read_excel(io=\"data.xlsx\")\n",
    "excel.head()"
   ]
  },
  {
   "cell_type": "code",
   "execution_count": 3,
   "metadata": {},
   "outputs": [
    {
     "data": {
      "text/plain": [
       "<AxesSubplot:xlabel='V_STO', ylabel='SoC'>"
      ]
     },
     "execution_count": 3,
     "metadata": {},
     "output_type": "execute_result"
    },
    {
     "data": {
      "image/png": "[encoded data removed]",
      "text/plain": [
       "<Figure size 432x288 with 1 Axes>"
      ]
     },
     "metadata": {
      "needs_background": "light"
     },
     "output_type": "display_data"
    }
   ],
   "source": [
    "sb.scatterplot(data=excel, x=\"V_STO\", y=\"SoC\")"
   ]
  },
  {
   "cell_type": "code",
   "execution_count": 4,
   "metadata": {},
   "outputs": [
    {
     "name": "stderr",
     "output_type": "stream",
     "text": [
      "/usr/local/Caskroom/miniforge/base/lib/python3.9/site-packages/IPython/core/interactiveshell.py:3457: RankWarning: Polyfit may be poorly conditioned\n",
      "  exec(code_obj, self.user_global_ns, self.user_ns)\n"
     ]
    },
    {
     "data": {
      "text/plain": [
       "array([ 4.04280787e-07, -5.66986229e-06,  1.69057689e-05,  5.87075880e-05,\n",
       "       -1.07729341e-04, -1.02932816e-03, -1.90531797e-03,  7.07869806e-03,\n",
       "        5.47548719e-02,  1.28406869e-01, -2.33954111e-01, -2.90291126e+00,\n",
       "       -9.45206409e+00,  1.26432231e+00,  1.47670485e+02,  6.15142605e+02,\n",
       "        2.82074915e+02, -8.47004267e+03, -3.52294309e+04,  2.38662094e+04,\n",
       "        6.46070972e+05,  6.34117017e+05, -1.18765075e+07,  2.60441483e+07,\n",
       "       -1.79505073e+07])"
      ]
     },
     "execution_count": 4,
     "metadata": {},
     "output_type": "execute_result"
    }
   ],
   "source": [
    "np.polyfit(excel[\"V_STO\"], excel[\"SoC\"], 24)"
   ]
  },
  {
   "cell_type": "code",
   "execution_count": 6,
   "metadata": {},
   "outputs": [
    {
     "name": "stdout",
     "output_type": "stream",
     "text": [
      "y = 0.0000004043x^24 + -0.0000056699x^23 + 0.0000169058x^22 + 0.0000587076x^21 + -0.0001077293x^20 + -0.0010293282x^19 + -0.0019053180x^18 + 0.0070786981x^17 + 0.0547548719x^16 + 0.1284068693x^15 + -0.2339541110x^14 + -2.9029112632x^13 + -9.4520640888x^12 + 1.2643223075x^11 + 147.6704851131x^10 + 615.1426049072x^9 + 282.0749152027x^8 + -8470.0426718325x^7 + -35229.4308794723x^6 + 23866.2094005576x^5 + 646070.9716782743x^4 + 634117.0174138558x^3 + -11876507.5264354441x^2 + 26044148.3317376114x + -17950507.3401628844\n",
      "            20             19             18             17\n",
      "-6.501e+07 x  + 4.885e+08 x  - 1.556e+09 x  + 2.607e+09 x \n",
      "              16             15             14             13\n",
      " - 2.072e+09 x  - 2.831e+08 x  + 2.177e+09 x  - 1.524e+09 x \n",
      "              12             11             10             9\n",
      " - 8.041e+08 x  + 2.409e+09 x  - 2.334e+09 x  + 1.392e+09 x\n",
      "              8             7             6             5             4\n",
      " - 5.711e+08 x + 1.665e+08 x - 3.457e+07 x + 5.029e+06 x - 4.957e+05 x\n",
      "              3        2\n",
      " + 3.159e+04 x - 1250 x + 32.55 x + 3.071\n",
      "PREDICTED SoC: 3.8913614240059964\n"
     ]
    },
    {
     "name": "stderr",
     "output_type": "stream",
     "text": [
      "/usr/local/Caskroom/miniforge/base/lib/python3.9/site-packages/IPython/core/interactiveshell.py:3457: RankWarning: Polyfit may be poorly conditioned\n",
      "  exec(code_obj, self.user_global_ns, self.user_ns)\n",
      "/usr/local/Caskroom/miniforge/base/lib/python3.9/site-packages/IPython/core/interactiveshell.py:3457: RankWarning: Polyfit may be poorly conditioned\n",
      "  exec(code_obj, self.user_global_ns, self.user_ns)\n",
      "/usr/local/Caskroom/miniforge/base/lib/python3.9/site-packages/IPython/core/interactiveshell.py:3457: RankWarning: Polyfit may be poorly conditioned\n",
      "  exec(code_obj, self.user_global_ns, self.user_ns)\n",
      "/usr/local/Caskroom/miniforge/base/lib/python3.9/site-packages/IPython/core/interactiveshell.py:3457: RankWarning: Polyfit may be poorly conditioned\n",
      "  exec(code_obj, self.user_global_ns, self.user_ns)\n",
      "/usr/local/Caskroom/miniforge/base/lib/python3.9/site-packages/IPython/core/interactiveshell.py:3457: RankWarning: Polyfit may be poorly conditioned\n",
      "  exec(code_obj, self.user_global_ns, self.user_ns)\n"
     ]
    },
    {
     "data": {
      "image/png": "[encoded data removed]",
      "text/plain": [
       "<Figure size 432x288 with 1 Axes>"
      ]
     },
     "metadata": {
      "needs_background": "light"
     },
     "output_type": "display_data"
    }
   ],
   "source": [
    "# print the coefficients as equation y = a + bx + cx^2 + dx^3 + ...\n",
    "# start with ^24 first and work your way down\n",
    "print(\"y = {:.10f}x^24 + {:.10f}x^23 + {:.10f}x^22 + {:.10f}x^21 + {:.10f}x^20 + {:.10f}x^19 + {:.10f}x^18 + {:.10f}x^17 + {:.10f}x^16 + {:.10f}x^15 + {:.10f}x^14 + {:.10f}x^13 + {:.10f}x^12 + {:.10f}x^11 + {:.10f}x^10 + {:.10f}x^9 + {:.10f}x^8 + {:.10f}x^7 + {:.10f}x^6 + {:.10f}x^5 + {:.10f}x^4 + {:.10f}x^3 + {:.10f}x^2 + {:.10f}x + {:.10f}\".format(*np.polyfit(excel[\"V_STO\"], excel[\"SoC\"], 24)))\n",
    "\n",
    "fig = plt.figure()\n",
    "\n",
    "plt.plot(excel[\"SoC\"], excel[\"V_STO\"], 'o')\n",
    "\n",
    "plt.plot(excel[\"SoC\"], np.poly1d(np.polyfit(excel[\"SoC\"],excel[\"V_STO\"], 20))(excel[\"SoC\"]), 'r-')\n",
    "\n",
    "print(np.poly1d(np.polyfit(excel[\"SoC\"],excel[\"V_STO\"], 20)))\n",
    "\n",
    "SoC_to_predict = 0.8\n",
    "\n",
    "print(\"PREDICTED SoC:\", np.poly1d(np.polyfit(excel[\"SoC\"],excel[\"V_STO\"], 20))(SoC_to_predict))\n",
    "coeffs = np.polyfit(excel[\"SoC\"],excel[\"V_STO\"], 24)"
   ]
  },
  {
   "cell_type": "code",
   "execution_count": null,
   "metadata": {},
   "outputs": [],
   "source": []
  }
 ],
 "metadata": {
  "kernelspec": {
   "display_name": "base",
   "language": "python",
   "name": "python3"
  },
  "language_info": {
   "codemirror_mode": {
    "name": "ipython",
    "version": 3
   },
   "file_extension": ".py",
   "mimetype": "text/x-python",
   "name": "python",
   "nbconvert_exporter": "python",
   "pygments_lexer": "ipython3",
   "version": "3.9.7"
  },
  "orig_nbformat": 4
 },
 "nbformat": 4,
 "nbformat_minor": 2
}
